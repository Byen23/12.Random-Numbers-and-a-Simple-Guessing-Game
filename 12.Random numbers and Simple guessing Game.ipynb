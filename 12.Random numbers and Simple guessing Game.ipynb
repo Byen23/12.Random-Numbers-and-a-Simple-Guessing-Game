{
 "cells": [
  {
   "cell_type": "code",
   "execution_count": 2,
   "metadata": {
    "ExecuteTime": {
     "end_time": "2019-01-13T17:22:51.143437Z",
     "start_time": "2019-01-13T17:22:22.559956Z"
    }
   },
   "outputs": [
    {
     "name": "stdout",
     "output_type": "stream",
     "text": [
      "4 6 4 2 5 5 3 3 6 4 \n",
      "\n",
      "Enter the smaller number: 0\n",
      "Enter the larger number: 25\n",
      "Enter your guess: 20\n",
      "Too Small!\n",
      "Enter your guess: 21\n",
      "Too Small!\n",
      "Enter your guess: 24\n",
      "Too Large!\n",
      "Enter your guess: 23\n",
      "Too Large!\n",
      "Enter your guess: 22\n",
      "Congratulation!, You've got it in 5 tries!\n"
     ]
    }
   ],
   "source": [
    "# -*- coding: utf-8 -*-\n",
    "\"\"\"\n",
    "Created on Sun Jan 13 2019\n",
    "\n",
    "@author: Byen23\n",
    "\"\"\"\n",
    "\n",
    "# This will be my 12th program to be uploaded to github\n",
    "\n",
    "\"\"\"Random Numbers\"\"\"\n",
    "'''The function random.randint returns a random number from among the numbers between the two arguments and including those numbers. The next session simulates the roll of a die 10 times:'''\n",
    "import random\n",
    "for roll in range(10):\n",
    "\tprint(random.randint(1, 6), end = \" \")\n",
    "\n",
    "# Simple Guessing game using random, and a while True loop.\n",
    "print(\"\\n\")\n",
    "\n",
    "smaller = int(input(\"Enter the smaller number: \"))\n",
    "larger = int(input(\"Enter the larger number: \"))\n",
    "myNumber = random.randint(smaller, larger)\n",
    "\n",
    "count = 0\n",
    "while True:\n",
    "\tcount += 1\n",
    "\tuserNumber = int(input(\"Enter your guess: \"))\n",
    "\tif userNumber < myNumber:\n",
    "\t\tprint(\"Too Small!\")\n",
    "\telif userNumber > myNumber:\n",
    "\t\tprint(\"Too Large!\")\n",
    "\telse:\n",
    "\t\tprint(\"Congratulation!, You've got it in\", count, \"tries!\")\n",
    "\t\tbreak\n"
   ]
  }
 ],
 "metadata": {
  "kernelspec": {
   "display_name": "Python 3",
   "language": "python",
   "name": "python3"
  },
  "language_info": {
   "codemirror_mode": {
    "name": "ipython",
    "version": 3
   },
   "file_extension": ".py",
   "mimetype": "text/x-python",
   "name": "python",
   "nbconvert_exporter": "python",
   "pygments_lexer": "ipython3",
   "version": "3.6.7"
  }
 },
 "nbformat": 4,
 "nbformat_minor": 2
}
